{
 "cells": [
  {
   "cell_type": "code",
   "execution_count": 1,
   "metadata": {},
   "outputs": [],
   "source": [
    "%matplotlib inline\n",
    "\n",
    "\n",
    "import copy\n",
    "import cProfile\n",
    "import importlib\n",
    "import itertools\n",
    "from IPython.display import Image\n",
    "import math\n",
    "import matplotlib\n",
    "import matplotlib.pyplot as plt\n",
    "import multiprocessing\n",
    "import numpy as np\n",
    "import queue\n",
    "import scipy.signal as signal\n",
    "import subprocess\n",
    "import threading \n",
    "import time\n"
   ]
  },
  {
   "cell_type": "markdown",
   "metadata": {},
   "source": [
    "## Here is a basic correlator implimentation"
   ]
  },
  {
   "cell_type": "code",
   "execution_count": 2,
   "metadata": {},
   "outputs": [],
   "source": [
    "# Adapted from: \n",
    "#https://github.com/vt-ece4530-f17/challenge-ece4530-f17-0/blob/master/challenge.pdf\n",
    "\n",
    "class Correlator:\n",
    "    def __init__(self):\n",
    "        pass\n",
    "    \n",
    "    def myCorrelate(self,  ref, search):             \n",
    "        cor = [0] * ( 1 + len(search) - len(ref))\n",
    "        for i in range(0, 1 + len(search) - len(ref)):\n",
    "            for j in range(0, len(ref)):\n",
    "                cor[i] = cor[i] + ref[j] * search[ (i+j) % len(search) ]\n",
    "        return cor\n",
    "\n",
    "    def peakDetect(self, search):\n",
    "        maxVal=-1\n",
    "        maxIdx = -1\n",
    "\n",
    "        for idx,val in enumerate(search):\n",
    "            if val > maxVal:\n",
    "                maxVal = val\n",
    "                maxIdx = idx\n",
    "                \n",
    "        return maxIdx\n",
    "\n",
    "    def bulk_peakDetect (self, references, all_searches):\n",
    "        all_maxIds = []\n",
    "        for ridx,reference in enumerate(references):\n",
    "            ref_maxIds = []\n",
    "            for search in all_searches[ridx]:\n",
    "                cor = self.myCorrelate(reference,search)\n",
    "                maxIdx = self.peakDetect(cor)\n",
    "                ref_maxIds.append(maxIdx)\n",
    "            all_maxIds.append(ref_maxIds)\n",
    "        return all_maxIds\n",
    "\n",
    "    "
   ]
  },
  {
   "cell_type": "markdown",
   "metadata": {},
   "source": [
    "## Here is a simple 'reference' signal, consisting of 9 points"
   ]
  },
  {
   "cell_type": "code",
   "execution_count": 3,
   "metadata": {},
   "outputs": [
    {
     "name": "stderr",
     "output_type": "stream",
     "text": [
      "/Users/wyeth/anaconda3/lib/python3.7/site-packages/ipykernel_launcher.py:3: UserWarning: In Matplotlib 3.3 individual lines on a stem plot will be added as a LineCollection instead of individual lines. This significantly improves the performance of a stem plot. To remove this warning and switch to the new behaviour, set the \"use_line_collection\" keyword argument to True.\n",
      "  This is separate from the ipykernel package so we can avoid doing imports until\n"
     ]
    },
    {
     "data": {
      "image/png": "[encoded data removed]",
      "text/plain": [
       "<Figure size 432x288 with 1 Axes>"
      ]
     },
     "metadata": {
      "needs_background": "light"
     },
     "output_type": "display_data"
    }
   ],
   "source": [
    "reference = [0,-0.1,0.2,0.7,0.9,0.7,0.2,-0.1,0] \n",
    "\n",
    "plt.stem(range(0, len(reference)), reference, linefmt='C1-', markerfmt='C1o')\n",
    "plt.show()"
   ]
  },
  {
   "cell_type": "markdown",
   "metadata": {},
   "source": [
    "## The goal of correlation is to find that 'reference' signal in a bigger 'search' signal\n",
    "\n",
    "Here we've artifically inserted the 'reference' signal into the 'search' signal starting at index 20.  "
   ]
  },
  {
   "cell_type": "code",
   "execution_count": 4,
   "metadata": {},
   "outputs": [
    {
     "name": "stderr",
     "output_type": "stream",
     "text": [
      "/Users/wyeth/anaconda3/lib/python3.7/site-packages/ipykernel_launcher.py:4: UserWarning: In Matplotlib 3.3 individual lines on a stem plot will be added as a LineCollection instead of individual lines. This significantly improves the performance of a stem plot. To remove this warning and switch to the new behaviour, set the \"use_line_collection\" keyword argument to True.\n",
      "  after removing the cwd from sys.path.\n"
     ]
    },
    {
     "data": {
      "image/png": "[encoded data removed]",
      "text/plain": [
       "<Figure size 432x288 with 1 Axes>"
      ]
     },
     "metadata": {
      "needs_background": "light"
     },
     "output_type": "display_data"
    }
   ],
   "source": [
    "search = [0]*20 + reference + [0]*20\n",
    "\n",
    "\n",
    "plt.stem(range(0, len(search)), search, linefmt='C0-', markerfmt='C0o')\n",
    "plt.show()"
   ]
  },
  {
   "cell_type": "markdown",
   "metadata": {},
   "source": [
    "## Let's run our colrrelator and see what it returns"
   ]
  },
  {
   "cell_type": "code",
   "execution_count": 5,
   "metadata": {},
   "outputs": [
    {
     "name": "stderr",
     "output_type": "stream",
     "text": [
      "/Users/wyeth/anaconda3/lib/python3.7/site-packages/ipykernel_launcher.py:3: UserWarning: In Matplotlib 3.3 individual lines on a stem plot will be added as a LineCollection instead of individual lines. This significantly improves the performance of a stem plot. To remove this warning and switch to the new behaviour, set the \"use_line_collection\" keyword argument to True.\n",
      "  This is separate from the ipykernel package so we can avoid doing imports until\n"
     ]
    },
    {
     "data": {
      "image/png": "[encoded data removed]",
      "text/plain": [
       "<Figure size 432x288 with 1 Axes>"
      ]
     },
     "metadata": {
      "needs_background": "light"
     },
     "output_type": "display_data"
    }
   ],
   "source": [
    "c = Correlator()\n",
    "cor = c.myCorrelate(reference,search)\n",
    "plt.stem(range(0, len(cor)), cor, linefmt='C2-.', markerfmt='C2o')\n",
    "plt.show()"
   ]
  },
  {
   "cell_type": "markdown",
   "metadata": {},
   "source": [
    "## Notice the the peak 'correlation' is at index 20"
   ]
  },
  {
   "cell_type": "code",
   "execution_count": 6,
   "metadata": {},
   "outputs": [
    {
     "name": "stdout",
     "output_type": "stream",
     "text": [
      "Correlation Values:  [0.0, 0.0, 0.0, 0.0, 0.0, 0.0, 0.0, 0.0, 0.0, 0.0, 0.0, 0.0, 0.0, 0.0, 0.010000000000000002, -0.04000000000000001, -0.09999999999999998, 0.09999999999999994, 0.7100000000000001, 1.4999999999999998, 1.8900000000000001, 1.4999999999999998, 0.7100000000000001, 0.09999999999999994, -0.09999999999999998, -0.04000000000000001, 0.010000000000000002, 0.0, 0.0, 0.0, 0.0, 0.0, 0.0, 0.0, 0.0, 0.0, 0.0, 0.0, 0.0, 0.0, 0.0]\n",
      "Max Correlation:  1.8900000000000001\n",
      "Index of Max Correlation:  20\n"
     ]
    },
    {
     "name": "stderr",
     "output_type": "stream",
     "text": [
      "/Users/wyeth/anaconda3/lib/python3.7/site-packages/ipykernel_launcher.py:7: UserWarning: In Matplotlib 3.3 individual lines on a stem plot will be added as a LineCollection instead of individual lines. This significantly improves the performance of a stem plot. To remove this warning and switch to the new behaviour, set the \"use_line_collection\" keyword argument to True.\n",
      "  import sys\n"
     ]
    },
    {
     "data": {
      "image/png": "[encoded data removed]",
      "text/plain": [
       "<Figure size 432x288 with 1 Axes>"
      ]
     },
     "metadata": {
      "needs_background": "light"
     },
     "output_type": "display_data"
    }
   ],
   "source": [
    "maxIdx = c.peakDetect(cor)\n",
    "print ('Correlation Values: ', cor)\n",
    "print ('Max Correlation: ', cor[maxIdx])\n",
    "print ('Index of Max Correlation: ', maxIdx)\n",
    "\n",
    "plt.scatter(maxIdx, cor[maxIdx], s=200, color='purple')\n",
    "plt.stem(range(0, len(cor)), cor, linefmt='C2-.', markerfmt='C2o')\n",
    "plt.show()\n"
   ]
  },
  {
   "cell_type": "markdown",
   "metadata": {},
   "source": [
    "### This is saying that our 'reference' signal aligns most closely with index 20 of the 'search' signal. \n",
    "\n",
    "Let's take the origional signal, and shift it down by 20, then compare it to the 'search' signal"
   ]
  },
  {
   "cell_type": "code",
   "execution_count": 7,
   "metadata": {},
   "outputs": [
    {
     "name": "stderr",
     "output_type": "stream",
     "text": [
      "/Users/wyeth/anaconda3/lib/python3.7/site-packages/ipykernel_launcher.py:4: UserWarning: In Matplotlib 3.3 individual lines on a stem plot will be added as a LineCollection instead of individual lines. This significantly improves the performance of a stem plot. To remove this warning and switch to the new behaviour, set the \"use_line_collection\" keyword argument to True.\n",
      "  after removing the cwd from sys.path.\n",
      "/Users/wyeth/anaconda3/lib/python3.7/site-packages/ipykernel_launcher.py:5: UserWarning: In Matplotlib 3.3 individual lines on a stem plot will be added as a LineCollection instead of individual lines. This significantly improves the performance of a stem plot. To remove this warning and switch to the new behaviour, set the \"use_line_collection\" keyword argument to True.\n",
      "  \"\"\"\n"
     ]
    },
    {
     "data": {
      "image/png": "[encoded data removed]",
      "text/plain": [
       "<Figure size 432x288 with 1 Axes>"
      ]
     },
     "metadata": {
      "needs_background": "light"
     },
     "output_type": "display_data"
    },
    {
     "name": "stderr",
     "output_type": "stream",
     "text": [
      "/Users/wyeth/anaconda3/lib/python3.7/site-packages/ipykernel_launcher.py:8: UserWarning: In Matplotlib 3.3 individual lines on a stem plot will be added as a LineCollection instead of individual lines. This significantly improves the performance of a stem plot. To remove this warning and switch to the new behaviour, set the \"use_line_collection\" keyword argument to True.\n",
      "  \n",
      "/Users/wyeth/anaconda3/lib/python3.7/site-packages/ipykernel_launcher.py:9: UserWarning: In Matplotlib 3.3 individual lines on a stem plot will be added as a LineCollection instead of individual lines. This significantly improves the performance of a stem plot. To remove this warning and switch to the new behaviour, set the \"use_line_collection\" keyword argument to True.\n",
      "  if __name__ == '__main__':\n"
     ]
    },
    {
     "data": {
      "image/png": "[encoded data removed]",
      "text/plain": [
       "<Figure size 432x288 with 1 Axes>"
      ]
     },
     "metadata": {
      "needs_background": "light"
     },
     "output_type": "display_data"
    }
   ],
   "source": [
    "extended_reference = reference + [0]*(len(search)-len(reference))\n",
    "shifted_reference = [0] * maxIdx + reference + [0] * (len(search)-maxIdx-len(reference))\n",
    "\n",
    "plt.stem(range(0, len(extended_reference)), extended_reference, linefmt='C1-.', markerfmt='C1.')\n",
    "plt.stem(range(0, len(shifted_reference)), shifted_reference,linefmt='C5-', markerfmt='C5^')\n",
    "plt.show()\n",
    "\n",
    "plt.stem(range(0, len(search)), search,linefmt='C0.', markerfmt='C0o')\n",
    "plt.stem(range(0, len(shifted_reference)), shifted_reference,linefmt='C5-', markerfmt='C5^')\n",
    "plt.show()"
   ]
  },
  {
   "cell_type": "markdown",
   "metadata": {},
   "source": [
    "## Rarely are 'search' signals this clean.  Often they contain random values, or 'noise', in addition to the actual 'reference' signal.\n",
    "\n",
    "This time we're going to start the 'reference' signal at index 35"
   ]
  },
  {
   "cell_type": "code",
   "execution_count": 8,
   "metadata": {},
   "outputs": [
    {
     "name": "stdout",
     "output_type": "stream",
     "text": [
      "Only Noise\n"
     ]
    },
    {
     "name": "stderr",
     "output_type": "stream",
     "text": [
      "/Users/wyeth/anaconda3/lib/python3.7/site-packages/ipykernel_launcher.py:5: UserWarning: In Matplotlib 3.3 individual lines on a stem plot will be added as a LineCollection instead of individual lines. This significantly improves the performance of a stem plot. To remove this warning and switch to the new behaviour, set the \"use_line_collection\" keyword argument to True.\n",
      "  \"\"\"\n"
     ]
    },
    {
     "data": {
      "image/png": "[encoded data removed]",
      "text/plain": [
       "<Figure size 432x288 with 1 Axes>"
      ]
     },
     "metadata": {
      "needs_background": "light"
     },
     "output_type": "display_data"
    },
    {
     "name": "stdout",
     "output_type": "stream",
     "text": [
      "New 'search' signal containing 'reference' signal and 'noise'. \n"
     ]
    },
    {
     "name": "stderr",
     "output_type": "stream",
     "text": [
      "/Users/wyeth/anaconda3/lib/python3.7/site-packages/ipykernel_launcher.py:13: UserWarning: In Matplotlib 3.3 individual lines on a stem plot will be added as a LineCollection instead of individual lines. This significantly improves the performance of a stem plot. To remove this warning and switch to the new behaviour, set the \"use_line_collection\" keyword argument to True.\n",
      "  del sys.path[0]\n"
     ]
    },
    {
     "data": {
      "image/png": "[encoded data removed]",
      "text/plain": [
       "<Figure size 432x288 with 1 Axes>"
      ]
     },
     "metadata": {
      "needs_background": "light"
     },
     "output_type": "display_data"
    }
   ],
   "source": [
    "np.random.seed(100)\n",
    "noise = np.random.normal(0,0.30,100)\n",
    "\n",
    "print (\"Only Noise\")\n",
    "plt.stem(range(0, len(noise)), noise, linefmt='C7-', markerfmt='C7o')\n",
    "plt.show()\n",
    "\n",
    "search = noise\n",
    "ref_idx = 35\n",
    "search[ref_idx:ref_idx+len(reference)] += reference\n",
    "\n",
    "print (\"New 'search' signal containing 'reference' signal and 'noise'. \")\n",
    "plt.stem(range(0, len(search)), search, linefmt='C0-', markerfmt='C0o')\n",
    "plt.show()"
   ]
  },
  {
   "cell_type": "markdown",
   "metadata": {},
   "source": [
    "## Now let's see if correlation can still find the 'reference' signal"
   ]
  },
  {
   "cell_type": "code",
   "execution_count": 9,
   "metadata": {},
   "outputs": [
    {
     "name": "stderr",
     "output_type": "stream",
     "text": [
      "/Users/wyeth/anaconda3/lib/python3.7/site-packages/ipykernel_launcher.py:6: UserWarning: In Matplotlib 3.3 individual lines on a stem plot will be added as a LineCollection instead of individual lines. This significantly improves the performance of a stem plot. To remove this warning and switch to the new behaviour, set the \"use_line_collection\" keyword argument to True.\n",
      "  \n"
     ]
    },
    {
     "data": {
      "image/png": "[encoded data removed]",
      "text/plain": [
       "<Figure size 432x288 with 1 Axes>"
      ]
     },
     "metadata": {
      "needs_background": "light"
     },
     "output_type": "display_data"
    },
    {
     "name": "stdout",
     "output_type": "stream",
     "text": [
      "Max Correlation:  35\n",
      "Correct Match: True\n"
     ]
    },
    {
     "name": "stderr",
     "output_type": "stream",
     "text": [
      "/Users/wyeth/anaconda3/lib/python3.7/site-packages/ipykernel_launcher.py:15: UserWarning: In Matplotlib 3.3 individual lines on a stem plot will be added as a LineCollection instead of individual lines. This significantly improves the performance of a stem plot. To remove this warning and switch to the new behaviour, set the \"use_line_collection\" keyword argument to True.\n",
      "  from ipykernel import kernelapp as app\n",
      "/Users/wyeth/anaconda3/lib/python3.7/site-packages/ipykernel_launcher.py:16: UserWarning: In Matplotlib 3.3 individual lines on a stem plot will be added as a LineCollection instead of individual lines. This significantly improves the performance of a stem plot. To remove this warning and switch to the new behaviour, set the \"use_line_collection\" keyword argument to True.\n",
      "  app.launch_new_instance()\n"
     ]
    },
    {
     "data": {
      "image/png": "[encoded data removed]",
      "text/plain": [
       "<Figure size 432x288 with 1 Axes>"
      ]
     },
     "metadata": {
      "needs_background": "light"
     },
     "output_type": "display_data"
    },
    {
     "name": "stderr",
     "output_type": "stream",
     "text": [
      "/Users/wyeth/anaconda3/lib/python3.7/site-packages/ipykernel_launcher.py:19: UserWarning: In Matplotlib 3.3 individual lines on a stem plot will be added as a LineCollection instead of individual lines. This significantly improves the performance of a stem plot. To remove this warning and switch to the new behaviour, set the \"use_line_collection\" keyword argument to True.\n",
      "/Users/wyeth/anaconda3/lib/python3.7/site-packages/ipykernel_launcher.py:20: UserWarning: In Matplotlib 3.3 individual lines on a stem plot will be added as a LineCollection instead of individual lines. This significantly improves the performance of a stem plot. To remove this warning and switch to the new behaviour, set the \"use_line_collection\" keyword argument to True.\n"
     ]
    },
    {
     "data": {
      "image/png": "[encoded data removed]",
      "text/plain": [
       "<Figure size 432x288 with 1 Axes>"
      ]
     },
     "metadata": {
      "needs_background": "light"
     },
     "output_type": "display_data"
    }
   ],
   "source": [
    "c = Correlator()\n",
    "cor = c.myCorrelate(reference,search)\n",
    "maxIdx = c.peakDetect(cor)\n",
    "\n",
    "plt.scatter(maxIdx, cor[maxIdx], s=200, color='purple')\n",
    "plt.stem(range(0, len(cor)), cor, linefmt='C2-.', markerfmt='C2o')\n",
    "plt.show()\n",
    "\n",
    "print (\"Max Correlation: \", maxIdx)\n",
    "print (\"Correct Match:\", True if ref_idx==maxIdx else False)\n",
    "\n",
    "extended_reference = reference + [0]*(len(search)-len(reference))\n",
    "shifted_reference = [0] * maxIdx + reference + [0] * (len(search)-maxIdx-len(reference))\n",
    "\n",
    "plt.stem(range(0, len(extended_reference)), extended_reference, linefmt='C1-.', markerfmt='C1.')\n",
    "plt.stem(range(0, len(shifted_reference)), shifted_reference,linefmt='C5-', markerfmt='C5^')\n",
    "plt.show()\n",
    "\n",
    "plt.stem(range(0, len(search)), search,linefmt='C0.', markerfmt='C0o')\n",
    "plt.stem(range(0, len(shifted_reference)), shifted_reference,linefmt='C5-', markerfmt='C5^')\n",
    "plt.show()"
   ]
  },
  {
   "cell_type": "markdown",
   "metadata": {},
   "source": [
    "## It was still able to find the 'reference' signal in the noisy 'search' signal.  \n",
    "\n",
    "## Now let's see if it can find a bunch of 'reference' signals in a bunch of 'search' signals"
   ]
  },
  {
   "cell_type": "code",
   "execution_count": 10,
   "metadata": {},
   "outputs": [],
   "source": [
    "ref_len = 64\n",
    "x_references = [\n",
    "    signal.boxcar(ref_len)*1.2-0.5,\n",
    "    signal.triang(ref_len)*1.5-0.75,\n",
    "    signal.triang(ref_len*2)[:ref_len]*5 - 2.5,\n",
    "    signal.chirp(np.linspace(0,1,ref_len), f0=1, f1=3, t1=1, method='linear')* 0.5,\n",
    "    signal.chirp(np.linspace(0,1,ref_len), f0=0.1, f1=3, t1=1, method='linear')* 0.5,\n",
    "    \n",
    "    signal.chirp(np.linspace(0,1,ref_len), f0=1, f1=10, t1=1, method='linear')* 0.5,\n",
    "    signal.parzen(ref_len) - 0.5,    \n",
    "    signal.hamming(ref_len)-0.5,\n",
    "    signal.hann(ref_len)*-1.0 -0.5,\n",
    "    signal.chebwin(ref_len, at=100)-0.5,\n",
    "    \n",
    "    signal.gaussian(ref_len, 2)-0.5,\n",
    "    signal.kaiser(ref_len,100)*1.0-0.5,\n",
    "    np.cos( np.linspace(0, 1*np.pi, ref_len))*1.5, \n",
    "    np.cos( np.linspace(0, 2*np.pi, ref_len)),\n",
    "    signal.impulse( ([1.0], [1.0, 0.5, 1.0]), N=ref_len)[1] * 10,\n",
    "    ]\n",
    "references = [ x * signal.chebwin(int(ref_len), at=100) for x in x_references ]"
   ]
  },
  {
   "cell_type": "markdown",
   "metadata": {},
   "source": [
    "Run this code if you want to plot all of the reference signals\n",
    "```Python\n",
    "for idx, reference in enumerate(references):\n",
    "    print (idx)\n",
    "    plt.stem(range(0, len(x_references[idx])), x_references[idx], linefmt='C0-', markerfmt='C0o')\n",
    "    plt.show()\n",
    "    plt.stem(range(0, len(reference)), reference, linefmt='C1-', markerfmt='C1o')\n",
    "    plt.show()\n",
    " ```"
   ]
  },
  {
   "cell_type": "code",
   "execution_count": 11,
   "metadata": {},
   "outputs": [],
   "source": [
    "search_len = 256\n",
    "np.random.seed(100) # so we get consistant random\n",
    "noises = [\n",
    "    np.random.normal(0,0.01,search_len),\n",
    "    np.random.normal(0,0.05,search_len),\n",
    "    np.random.normal(0,0.10,search_len),\n",
    "    np.random.normal(0,0.20,search_len),\n",
    "    np.random.normal(0,0.25,search_len),\n",
    "\n",
    "    np.random.random(search_len) * 0.35 - 0.125,\n",
    "    np.random.triangular(-1, 0, 1, search_len)*0.40,\n",
    "    np.random.uniform(-1,1, search_len) * 0.3,\n",
    "    np.random.gamma(1, 0.25, search_len) - 0.10, \n",
    "    np.random.logistic(1, 0.10, search_len) - 1.0,\n",
    "    \n",
    "    np.random.laplace(1, 0.15, search_len) - 1.0,\n",
    "    np.cos( np.linspace(-np.pi/4, 25*np.pi, search_len)) * 0.2,\n",
    "    np.cos( np.linspace(-np.pi/4, 0.1*np.pi , search_len)) * 0.2,\n",
    "    np.cos( np.linspace(-np.pi/4, 0.1*np.pi , search_len)) * 0.2,\n",
    "    np.cos( np.linspace(-np.pi/1, 18*np.pi , search_len)) * 0.1 \n",
    "        + np.cos( np.linspace(-np.pi, 28*np.pi, search_len)) * 0.2, \n",
    "    \n",
    "    np.cos( np.linspace(-np.pi, 1*np.pi , search_len)) * 0.10  \n",
    "        + np.random.normal(0,0.15,search_len),\n",
    "    np.cos( np.linspace(-np.pi, 0.1*np.pi , search_len)) * 0.1  \n",
    "        + np.cos( np.linspace(-np.pi, 28*np.pi, search_len)) * +0.1  \n",
    "        + np.random.normal(0,0.15,search_len),\n",
    "    ]\n",
    "\n",
    "positions = np.random.choice( range(0, search_len-ref_len), size=6, replace=False)"
   ]
  },
  {
   "cell_type": "markdown",
   "metadata": {},
   "source": [
    "Run this code if you want to plot all of the noise signals\n",
    "```Python\n",
    "for idx, noise in enumerate(noises):\n",
    "    print (idx)\n",
    "    plt.stem(range(0, len(noise)), noise, linefmt='C7-', markerfmt='C7o')\n",
    "    plt.show()\n",
    "\n",
    "```"
   ]
  },
  {
   "cell_type": "code",
   "execution_count": 12,
   "metadata": {},
   "outputs": [],
   "source": [
    "all_searches = []\n",
    "for ridx, reference in enumerate(references):\n",
    "    ref_searches = []\n",
    "    for noise in noises:\n",
    "        for position in positions:\n",
    "            search = copy.deepcopy(noise)\n",
    "            search[position:position+len(reference)] += reference\n",
    "            ref_searches.append(search)\n",
    "    all_searches.append(ref_searches)        "
   ]
  },
  {
   "cell_type": "markdown",
   "metadata": {},
   "source": [
    "Run this code if you want to plot all of the search signals\n",
    "```Python\n",
    "for idx, searches in enumerate(all_searches):\n",
    "    for jdx, search in enumerate(searches):\n",
    "        print ('refernce signal #: ', idx)\n",
    "        print ('noise signal #:', int(jdx/len(positions)))\n",
    "        print ('position #:', jdx % len(positions))\n",
    "        plt.stem(range(0, len(search)), search, linefmt='C0-', markerfmt='C0o')\n",
    "        plt.show() \n",
    "```    "
   ]
  },
  {
   "cell_type": "markdown",
   "metadata": {},
   "source": [
    "## Now let's use our collelator to find the 'reference' signals in the 'search' signals"
   ]
  },
  {
   "cell_type": "code",
   "execution_count": 13,
   "metadata": {},
   "outputs": [],
   "source": [
    "c = Correlator()\n",
    "all_peaks = c.bulk_peakDetect ( references, all_searches)"
   ]
  },
  {
   "cell_type": "markdown",
   "metadata": {},
   "source": [
    "## And define a 'check' method to make sure we're correct"
   ]
  },
  {
   "cell_type": "code",
   "execution_count": 14,
   "metadata": {},
   "outputs": [],
   "source": [
    "def check( all_peaks, references, noises, positions, error=3):\n",
    "    \n",
    "    if len(all_peaks) != len(references):\n",
    "        return False\n",
    "    \n",
    "    correct_peaks = list(np.concatenate([positions] * len(noises)).flat)\n",
    "        \n",
    "    for pidx,peaks in enumerate(all_peaks):\n",
    "        \n",
    "        sidx = 0\n",
    "        for peak, correct in zip(peaks, correct_peaks):\n",
    "            \n",
    "            close_enough = abs(peak-correct) <= error\n",
    "            \n",
    "            if not close_enough: \n",
    "                print ('Error Found: Ref:%d Search:%d' % (pidx,sidx) )\n",
    "                print ('Computed Peak:', peak)\n",
    "                print ('Actual Peak:', correct)\n",
    "\n",
    "                print ('Reference #:', pidx)\n",
    "                print ('Noise #:', int(sidx / len(positions)))\n",
    "                print ('Position #:', sidx % len(positions))\n",
    "\n",
    "                reference = references[pidx]\n",
    "                noise = noises[ int(sidx / len(positions))]\n",
    "                search = all_searches[pidx][sidx]\n",
    "                position = positions[sidx % len(positions) ]\n",
    "\n",
    "                c = Correlator()\n",
    "                correlation = c.myCorrelate(reference, search)\n",
    "                maxIdx = c.peakDetect(correlation)\n",
    "                assert(maxIdx == peak)\n",
    "\n",
    "                print ('Reference Signal')\n",
    "                plt.stem(range(0, len(reference)), reference, linefmt='C1-', markerfmt='C1o')\n",
    "                plt.show()\n",
    "\n",
    "                print ('Noise Signal')\n",
    "                plt.stem(range(0, len(noise)), noise, linefmt='C2-', markerfmt='C2o')\n",
    "                plt.show()\n",
    "\n",
    "                print ('Search Signal')\n",
    "                plt.stem(range(0, len(search)), search, linefmt='C0-', markerfmt='C0o')\n",
    "                plt.show()\n",
    "\n",
    "                print ('Correlation Signal')\n",
    "                plt.scatter(peak, correlation[peak], s=200, color='brown')\n",
    "                plt.scatter(correct, correlation[correct], s=200, color='red')\n",
    "                plt.scatter(maxIdx, correlation[maxIdx], s=200, color='orange')\n",
    "                plt.stem(range(0, len(correlation)), correlation, linefmt='C4-.', markerfmt='C4o')\n",
    "                plt.show()\n",
    "\n",
    "                return False\n",
    "            sidx += 1\n",
    "    return True\n"
   ]
  },
  {
   "cell_type": "code",
   "execution_count": 15,
   "metadata": {},
   "outputs": [
    {
     "name": "stdout",
     "output_type": "stream",
     "text": [
      "No Errors Found!\n"
     ]
    }
   ],
   "source": [
    "correct = check(all_peaks, references, noises, positions)\n",
    "print ('%s Errors Found!' % (\"No\" if correct else \"\"))"
   ]
  },
  {
   "cell_type": "code",
   "execution_count": 16,
   "metadata": {},
   "outputs": [
    {
     "name": "stdout",
     "output_type": "stream",
     "text": [
      "Total Circle Drawing Time: 13.311026603000002 Seconds\n",
      "No Errors Found!\n"
     ]
    }
   ],
   "source": [
    "start = time.perf_counter()\n",
    "all_peaks = c.bulk_peakDetect ( references, all_searches)\n",
    "stop = time.perf_counter()\n",
    "\n",
    "#The elapsed time is the difference between the two times\n",
    "delay = stop-start\n",
    "print('Total Circle Drawing Time: ' + str(delay) + ' Seconds')\n",
    "\n",
    "correct = check(all_peaks, references, noises, positions)\n",
    "print ('%s Errors Found!' % (\"No\" if correct else \"\"))"
   ]
  },
  {
   "cell_type": "markdown",
   "metadata": {},
   "source": [
    "## Now we can profile our correlator"
   ]
  },
  {
   "cell_type": "code",
   "execution_count": 17,
   "metadata": {},
   "outputs": [
    {
     "name": "stdout",
     "output_type": "stream",
     "text": [
      "         19204579 function calls in 15.662 seconds\n",
      "\n",
      "   Ordered by: standard name\n",
      "\n",
      "   ncalls  tottime  percall  cumtime  percall filename:lineno(function)\n",
      "     1530    0.028    0.000    0.028    0.000 <ipython-input-2-d8c316bc8b79>:15(peakDetect)\n",
      "        1    0.026    0.026   15.662   15.662 <ipython-input-2-d8c316bc8b79>:26(bulk_peakDetect)\n",
      "     1530   14.442    0.009   15.607    0.010 <ipython-input-2-d8c316bc8b79>:8(myCorrelate)\n",
      "        1    0.000    0.000   15.662   15.662 <string>:1(<module>)\n",
      "        1    0.000    0.000   15.662   15.662 {built-in method builtins.exec}\n",
      " 19199970    1.165    0.000    1.165    0.000 {built-in method builtins.len}\n",
      "     1545    0.000    0.000    0.000    0.000 {method 'append' of 'list' objects}\n",
      "        1    0.000    0.000    0.000    0.000 {method 'disable' of '_lsprof.Profiler' objects}\n",
      "\n",
      "\n"
     ]
    }
   ],
   "source": [
    "c = Correlator()\n",
    "cProfile.run('c.bulk_peakDetect ( references, all_searches)')"
   ]
  },
  {
   "cell_type": "code",
   "execution_count": 18,
   "metadata": {},
   "outputs": [
    {
     "ename": "FileNotFoundError",
     "evalue": "[Errno 2] No such file or directory: 'dot': 'dot'",
     "output_type": "error",
     "traceback": [
      "\u001b[0;31m---------------------------------------------------------------------------\u001b[0m",
      "\u001b[0;31mFileNotFoundError\u001b[0m                         Traceback (most recent call last)",
      "\u001b[0;32m<ipython-input-18-0ceabc7c4f2d>\u001b[0m in \u001b[0;36m<module>\u001b[0;34m\u001b[0m\n\u001b[1;32m      1\u001b[0m \u001b[0mcProfile\u001b[0m\u001b[0;34m.\u001b[0m\u001b[0mrun\u001b[0m\u001b[0;34m(\u001b[0m\u001b[0;34m'c.bulk_peakDetect ( references, all_searches)'\u001b[0m\u001b[0;34m,\u001b[0m \u001b[0;34m'correlation.pstats'\u001b[0m\u001b[0;34m)\u001b[0m\u001b[0;34m\u001b[0m\u001b[0;34m\u001b[0m\u001b[0m\n\u001b[1;32m      2\u001b[0m \u001b[0msubprocess\u001b[0m\u001b[0;34m.\u001b[0m\u001b[0mcall\u001b[0m\u001b[0;34m(\u001b[0m\u001b[0;34m[\u001b[0m\u001b[0;34m'python3'\u001b[0m\u001b[0;34m,\u001b[0m \u001b[0;34m'gprof2dot.py'\u001b[0m\u001b[0;34m,\u001b[0m \u001b[0;34m'-f'\u001b[0m\u001b[0;34m,\u001b[0m \u001b[0;34m'pstats'\u001b[0m\u001b[0;34m,\u001b[0m \u001b[0;34m'./correlation.pstats'\u001b[0m\u001b[0;34m,\u001b[0m \u001b[0;34m'-o'\u001b[0m\u001b[0;34m,\u001b[0m \u001b[0;34m'correlation.dot'\u001b[0m \u001b[0;34m]\u001b[0m\u001b[0;34m)\u001b[0m\u001b[0;34m\u001b[0m\u001b[0;34m\u001b[0m\u001b[0m\n\u001b[0;32m----> 3\u001b[0;31m \u001b[0msubprocess\u001b[0m\u001b[0;34m.\u001b[0m\u001b[0mcall\u001b[0m\u001b[0;34m(\u001b[0m\u001b[0;34m[\u001b[0m\u001b[0;34m'dot'\u001b[0m\u001b[0;34m,\u001b[0m \u001b[0;34m'-Tpng'\u001b[0m\u001b[0;34m,\u001b[0m \u001b[0;34m'-o'\u001b[0m\u001b[0;34m,\u001b[0m \u001b[0;34m'correlation.png'\u001b[0m\u001b[0;34m,\u001b[0m \u001b[0;34m'correlation.dot'\u001b[0m \u001b[0;34m]\u001b[0m\u001b[0;34m)\u001b[0m\u001b[0;34m\u001b[0m\u001b[0;34m\u001b[0m\u001b[0m\n\u001b[0m\u001b[1;32m      4\u001b[0m \u001b[0mImage\u001b[0m\u001b[0;34m(\u001b[0m\u001b[0;34m'correlation.png'\u001b[0m\u001b[0;34m)\u001b[0m\u001b[0;34m\u001b[0m\u001b[0;34m\u001b[0m\u001b[0m\n",
      "\u001b[0;32m~/anaconda3/lib/python3.7/subprocess.py\u001b[0m in \u001b[0;36mcall\u001b[0;34m(timeout, *popenargs, **kwargs)\u001b[0m\n\u001b[1;32m    321\u001b[0m     \u001b[0mretcode\u001b[0m \u001b[0;34m=\u001b[0m \u001b[0mcall\u001b[0m\u001b[0;34m(\u001b[0m\u001b[0;34m[\u001b[0m\u001b[0;34m\"ls\"\u001b[0m\u001b[0;34m,\u001b[0m \u001b[0;34m\"-l\"\u001b[0m\u001b[0;34m]\u001b[0m\u001b[0;34m)\u001b[0m\u001b[0;34m\u001b[0m\u001b[0;34m\u001b[0m\u001b[0m\n\u001b[1;32m    322\u001b[0m     \"\"\"\n\u001b[0;32m--> 323\u001b[0;31m     \u001b[0;32mwith\u001b[0m \u001b[0mPopen\u001b[0m\u001b[0;34m(\u001b[0m\u001b[0;34m*\u001b[0m\u001b[0mpopenargs\u001b[0m\u001b[0;34m,\u001b[0m \u001b[0;34m**\u001b[0m\u001b[0mkwargs\u001b[0m\u001b[0;34m)\u001b[0m \u001b[0;32mas\u001b[0m \u001b[0mp\u001b[0m\u001b[0;34m:\u001b[0m\u001b[0;34m\u001b[0m\u001b[0;34m\u001b[0m\u001b[0m\n\u001b[0m\u001b[1;32m    324\u001b[0m         \u001b[0;32mtry\u001b[0m\u001b[0;34m:\u001b[0m\u001b[0;34m\u001b[0m\u001b[0;34m\u001b[0m\u001b[0m\n\u001b[1;32m    325\u001b[0m             \u001b[0;32mreturn\u001b[0m \u001b[0mp\u001b[0m\u001b[0;34m.\u001b[0m\u001b[0mwait\u001b[0m\u001b[0;34m(\u001b[0m\u001b[0mtimeout\u001b[0m\u001b[0;34m=\u001b[0m\u001b[0mtimeout\u001b[0m\u001b[0;34m)\u001b[0m\u001b[0;34m\u001b[0m\u001b[0;34m\u001b[0m\u001b[0m\n",
      "\u001b[0;32m~/anaconda3/lib/python3.7/subprocess.py\u001b[0m in \u001b[0;36m__init__\u001b[0;34m(self, args, bufsize, executable, stdin, stdout, stderr, preexec_fn, close_fds, shell, cwd, env, universal_newlines, startupinfo, creationflags, restore_signals, start_new_session, pass_fds, encoding, errors, text)\u001b[0m\n\u001b[1;32m    773\u001b[0m                                 \u001b[0mc2pread\u001b[0m\u001b[0;34m,\u001b[0m \u001b[0mc2pwrite\u001b[0m\u001b[0;34m,\u001b[0m\u001b[0;34m\u001b[0m\u001b[0;34m\u001b[0m\u001b[0m\n\u001b[1;32m    774\u001b[0m                                 \u001b[0merrread\u001b[0m\u001b[0;34m,\u001b[0m \u001b[0merrwrite\u001b[0m\u001b[0;34m,\u001b[0m\u001b[0;34m\u001b[0m\u001b[0;34m\u001b[0m\u001b[0m\n\u001b[0;32m--> 775\u001b[0;31m                                 restore_signals, start_new_session)\n\u001b[0m\u001b[1;32m    776\u001b[0m         \u001b[0;32mexcept\u001b[0m\u001b[0;34m:\u001b[0m\u001b[0;34m\u001b[0m\u001b[0;34m\u001b[0m\u001b[0m\n\u001b[1;32m    777\u001b[0m             \u001b[0;31m# Cleanup if the child failed starting.\u001b[0m\u001b[0;34m\u001b[0m\u001b[0;34m\u001b[0m\u001b[0;34m\u001b[0m\u001b[0m\n",
      "\u001b[0;32m~/anaconda3/lib/python3.7/subprocess.py\u001b[0m in \u001b[0;36m_execute_child\u001b[0;34m(self, args, executable, preexec_fn, close_fds, pass_fds, cwd, env, startupinfo, creationflags, shell, p2cread, p2cwrite, c2pread, c2pwrite, errread, errwrite, restore_signals, start_new_session)\u001b[0m\n\u001b[1;32m   1520\u001b[0m                         \u001b[0;32mif\u001b[0m \u001b[0merrno_num\u001b[0m \u001b[0;34m==\u001b[0m \u001b[0merrno\u001b[0m\u001b[0;34m.\u001b[0m\u001b[0mENOENT\u001b[0m\u001b[0;34m:\u001b[0m\u001b[0;34m\u001b[0m\u001b[0;34m\u001b[0m\u001b[0m\n\u001b[1;32m   1521\u001b[0m                             \u001b[0merr_msg\u001b[0m \u001b[0;34m+=\u001b[0m \u001b[0;34m': '\u001b[0m \u001b[0;34m+\u001b[0m \u001b[0mrepr\u001b[0m\u001b[0;34m(\u001b[0m\u001b[0merr_filename\u001b[0m\u001b[0;34m)\u001b[0m\u001b[0;34m\u001b[0m\u001b[0;34m\u001b[0m\u001b[0m\n\u001b[0;32m-> 1522\u001b[0;31m                     \u001b[0;32mraise\u001b[0m \u001b[0mchild_exception_type\u001b[0m\u001b[0;34m(\u001b[0m\u001b[0merrno_num\u001b[0m\u001b[0;34m,\u001b[0m \u001b[0merr_msg\u001b[0m\u001b[0;34m,\u001b[0m \u001b[0merr_filename\u001b[0m\u001b[0;34m)\u001b[0m\u001b[0;34m\u001b[0m\u001b[0;34m\u001b[0m\u001b[0m\n\u001b[0m\u001b[1;32m   1523\u001b[0m                 \u001b[0;32mraise\u001b[0m \u001b[0mchild_exception_type\u001b[0m\u001b[0;34m(\u001b[0m\u001b[0merr_msg\u001b[0m\u001b[0;34m)\u001b[0m\u001b[0;34m\u001b[0m\u001b[0;34m\u001b[0m\u001b[0m\n\u001b[1;32m   1524\u001b[0m \u001b[0;34m\u001b[0m\u001b[0m\n",
      "\u001b[0;31mFileNotFoundError\u001b[0m: [Errno 2] No such file or directory: 'dot': 'dot'"
     ]
    }
   ],
   "source": [
    "cProfile.run('c.bulk_peakDetect ( references, all_searches)', 'correlation.pstats')\n",
    "subprocess.call(['python3', 'gprof2dot.py', '-f', 'pstats', './correlation.pstats', '-o', 'correlation.dot' ])\n",
    "subprocess.call(['dot', '-Tpng', '-o', 'correlation.png', 'correlation.dot' ])\n",
    "Image('correlation.png')"
   ]
  },
  {
   "cell_type": "markdown",
   "metadata": {},
   "source": [
    "## Here's your starter code and its runtime"
   ]
  },
  {
   "cell_type": "code",
   "execution_count": 22,
   "metadata": {},
   "outputs": [
    {
     "name": "stdout",
     "output_type": "stream",
     "text": [
      "Total Circle Drawing Time: 4.202010325999993 Seconds\n",
      "No Errors Found!\n"
     ]
    }
   ],
   "source": [
    "import MyCorrelator\n",
    "importlib.reload(MyCorrelator)\n",
    "\n",
    "# increase maxCores once your MyCorrelator supports it!\n",
    "mc = MyCorrelator.MyCorrelator( maxCores = 4)\n",
    "start = time.perf_counter()\n",
    "all_peaks = mc.bulk_peakDetect ( references, all_searches)\n",
    "stop = time.perf_counter()\n",
    "\n",
    "#The elapsed time is the difference between the two times\n",
    "delay = stop-start\n",
    "print('Total Circle Drawing Time: ' + str(delay) + ' Seconds')\n",
    "\n",
    "correct = check(all_peaks, references, noises, positions)\n",
    "print ('%s Errors Found!' % (\"No\" if correct else \"\"))"
   ]
  },
  {
   "cell_type": "markdown",
   "metadata": {},
   "source": [
    "## Your task is to acclerate this using multi-threading and/or multi-processing.  \n",
    "\n",
    "As Multi-Threading will run against the Python Global Interpretter Lock (GIL), we suggest multi-processing.  \n",
    "\n",
    "Here is some example code to get you started on multi-processing.  \n",
    "\n",
    "NOTE:  this might print `hello world !`, or `world hello !` depending on what order to independent processes run. "
   ]
  },
  {
   "cell_type": "code",
   "execution_count": null,
   "metadata": {},
   "outputs": [],
   "source": [
    "# Adapted from: \n",
    "# https://docs.python.org/3/library/multiprocessing.html#pipes-and-queues\n",
    "\n",
    "import multiprocessing as mp\n",
    "import threading\n",
    "import time\n",
    "import random\n",
    "\n",
    "def echo_str(s,q):\n",
    "    time.sleep(random.uniform(0,1))\n",
    "    q.put(s)\n",
    "    \n",
    "def run_test():\n",
    "    hw = ['Hello', 'World']\n",
    "    ctx = mp.get_context('fork')\n",
    "    q = ctx.Queue()\n",
    "    ph = ctx.Process(target=echo_str, args=(hw[0],q))\n",
    "    pw = ctx.Process(target=echo_str, args=(hw[1],q))\n",
    "    ph.start(); pw.start()\n",
    "    print(q.get(), q.get(), '!')\n",
    "    ph.join(); pw.join()\n",
    "    \n",
    "for i in range(10):\n",
    "    run_test()"
   ]
  },
  {
   "cell_type": "code",
   "execution_count": null,
   "metadata": {},
   "outputs": [],
   "source": [
    "ref_len = 64\n",
    "x_references = [\n",
    "    signal.boxcar(ref_len)*1.2-0.5,\n",
    "    signal.triang(ref_len)*1.5-0.75,\n",
    "    signal.triang(ref_len*2)[:ref_len]*5 - 2.5,\n",
    "    signal.chirp(np.linspace(0,1,ref_len), f0=1, f1=3, t1=1, method='linear')* 0.5,\n",
    "    signal.chirp(np.linspace(0,1,ref_len), f0=0.1, f1=3, t1=1, method='linear')* 0.5,\n",
    "    \n",
    "    signal.chirp(np.linspace(0,1,ref_len), f0=1, f1=10, t1=1, method='linear')* 0.5,\n",
    "    signal.parzen(ref_len) - 0.5,    \n",
    "    signal.hamming(ref_len)-0.5,\n",
    "    signal.hann(ref_len)*-1.0 -0.5,\n",
    "    signal.chebwin(ref_len, at=100)-0.5,\n",
    "    \n",
    "    signal.gaussian(ref_len, 2)-0.5,\n",
    "    signal.kaiser(ref_len,100)*1.0-0.5,\n",
    "    np.cos( np.linspace(0, 1*np.pi, ref_len))*1.5, \n",
    "    np.cos( np.linspace(0, 2*np.pi, ref_len)),\n",
    "    signal.impulse( ([1.0], [1.0, 0.5, 1.0]), N=ref_len)[1] * 10,\n",
    "    ]\n",
    "references = [ x * signal.chebwin(int(ref_len), at=100) for x in x_references ]"
   ]
  },
  {
   "cell_type": "code",
   "execution_count": null,
   "metadata": {},
   "outputs": [],
   "source": [
    "signal.chirp(np.linspace(0,1,ref_len), f0=0.1, f1=3, t1=1, method='linear')* 0.5"
   ]
  },
  {
   "cell_type": "code",
   "execution_count": null,
   "metadata": {},
   "outputs": [],
   "source": []
  }
 ],
 "metadata": {
  "kernelspec": {
   "display_name": "Python 3",
   "language": "python",
   "name": "python3"
  },
  "language_info": {
   "codemirror_mode": {
    "name": "ipython",
    "version": 3
   },
   "file_extension": ".py",
   "mimetype": "text/x-python",
   "name": "python",
   "nbconvert_exporter": "python",
   "pygments_lexer": "ipython3",
   "version": "3.7.3"
  }
 },
 "nbformat": 4,
 "nbformat_minor": 4
}
